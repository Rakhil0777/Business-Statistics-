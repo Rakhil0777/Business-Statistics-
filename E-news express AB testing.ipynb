{
 "cells": [
  {
   "cell_type": "markdown",
   "id": "0dc92e9a",
   "metadata": {},
   "source": [
    "## E-news Express ABtesting"
   ]
  },
  {
   "cell_type": "markdown",
   "id": "4f4654bc",
   "metadata": {},
   "source": [
    "**Lets start by importing all the useful libraries.**"
   ]
  },
  {
   "cell_type": "code",
   "execution_count": 141,
   "id": "dc7380de",
   "metadata": {},
   "outputs": [],
   "source": [
    "import pandas as pd\n",
    "import numpy as np\n",
    "from matplotlib import pyplot as plt\n",
    "import seaborn as sns\n",
    "import scipy.stats as stats"
   ]
  },
  {
   "cell_type": "markdown",
   "id": "336f87ea",
   "metadata": {},
   "source": [
    "**Now loading the provided dataset.**"
   ]
  },
  {
   "cell_type": "code",
   "execution_count": 10,
   "id": "89592a5d",
   "metadata": {},
   "outputs": [],
   "source": [
    "db=pd.read_csv('abtest.csv')"
   ]
  },
  {
   "cell_type": "code",
   "execution_count": 11,
   "id": "795eb2b3",
   "metadata": {},
   "outputs": [
    {
     "data": {
      "text/html": [
       "<div>\n",
       "<style scoped>\n",
       "    .dataframe tbody tr th:only-of-type {\n",
       "        vertical-align: middle;\n",
       "    }\n",
       "\n",
       "    .dataframe tbody tr th {\n",
       "        vertical-align: top;\n",
       "    }\n",
       "\n",
       "    .dataframe thead th {\n",
       "        text-align: right;\n",
       "    }\n",
       "</style>\n",
       "<table border=\"1\" class=\"dataframe\">\n",
       "  <thead>\n",
       "    <tr style=\"text-align: right;\">\n",
       "      <th></th>\n",
       "      <th>user_id</th>\n",
       "      <th>group</th>\n",
       "      <th>landing_page</th>\n",
       "      <th>time_spent_on_the_page</th>\n",
       "      <th>converted</th>\n",
       "      <th>language_preferred</th>\n",
       "    </tr>\n",
       "  </thead>\n",
       "  <tbody>\n",
       "    <tr>\n",
       "      <th>0</th>\n",
       "      <td>546592</td>\n",
       "      <td>control</td>\n",
       "      <td>old</td>\n",
       "      <td>3.48</td>\n",
       "      <td>no</td>\n",
       "      <td>Spanish</td>\n",
       "    </tr>\n",
       "    <tr>\n",
       "      <th>1</th>\n",
       "      <td>546468</td>\n",
       "      <td>treatment</td>\n",
       "      <td>new</td>\n",
       "      <td>7.13</td>\n",
       "      <td>yes</td>\n",
       "      <td>English</td>\n",
       "    </tr>\n",
       "    <tr>\n",
       "      <th>2</th>\n",
       "      <td>546462</td>\n",
       "      <td>treatment</td>\n",
       "      <td>new</td>\n",
       "      <td>4.40</td>\n",
       "      <td>no</td>\n",
       "      <td>Spanish</td>\n",
       "    </tr>\n",
       "    <tr>\n",
       "      <th>3</th>\n",
       "      <td>546567</td>\n",
       "      <td>control</td>\n",
       "      <td>old</td>\n",
       "      <td>3.02</td>\n",
       "      <td>no</td>\n",
       "      <td>French</td>\n",
       "    </tr>\n",
       "    <tr>\n",
       "      <th>4</th>\n",
       "      <td>546459</td>\n",
       "      <td>treatment</td>\n",
       "      <td>new</td>\n",
       "      <td>4.75</td>\n",
       "      <td>yes</td>\n",
       "      <td>Spanish</td>\n",
       "    </tr>\n",
       "    <tr>\n",
       "      <th>...</th>\n",
       "      <td>...</td>\n",
       "      <td>...</td>\n",
       "      <td>...</td>\n",
       "      <td>...</td>\n",
       "      <td>...</td>\n",
       "      <td>...</td>\n",
       "    </tr>\n",
       "    <tr>\n",
       "      <th>95</th>\n",
       "      <td>546446</td>\n",
       "      <td>treatment</td>\n",
       "      <td>new</td>\n",
       "      <td>5.15</td>\n",
       "      <td>no</td>\n",
       "      <td>Spanish</td>\n",
       "    </tr>\n",
       "    <tr>\n",
       "      <th>96</th>\n",
       "      <td>546544</td>\n",
       "      <td>control</td>\n",
       "      <td>old</td>\n",
       "      <td>6.52</td>\n",
       "      <td>yes</td>\n",
       "      <td>English</td>\n",
       "    </tr>\n",
       "    <tr>\n",
       "      <th>97</th>\n",
       "      <td>546472</td>\n",
       "      <td>treatment</td>\n",
       "      <td>new</td>\n",
       "      <td>7.07</td>\n",
       "      <td>yes</td>\n",
       "      <td>Spanish</td>\n",
       "    </tr>\n",
       "    <tr>\n",
       "      <th>98</th>\n",
       "      <td>546481</td>\n",
       "      <td>treatment</td>\n",
       "      <td>new</td>\n",
       "      <td>6.20</td>\n",
       "      <td>yes</td>\n",
       "      <td>Spanish</td>\n",
       "    </tr>\n",
       "    <tr>\n",
       "      <th>99</th>\n",
       "      <td>546483</td>\n",
       "      <td>treatment</td>\n",
       "      <td>new</td>\n",
       "      <td>5.86</td>\n",
       "      <td>yes</td>\n",
       "      <td>English</td>\n",
       "    </tr>\n",
       "  </tbody>\n",
       "</table>\n",
       "<p>100 rows × 6 columns</p>\n",
       "</div>"
      ],
      "text/plain": [
       "    user_id      group landing_page  time_spent_on_the_page converted  \\\n",
       "0    546592    control          old                    3.48        no   \n",
       "1    546468  treatment          new                    7.13       yes   \n",
       "2    546462  treatment          new                    4.40        no   \n",
       "3    546567    control          old                    3.02        no   \n",
       "4    546459  treatment          new                    4.75       yes   \n",
       "..      ...        ...          ...                     ...       ...   \n",
       "95   546446  treatment          new                    5.15        no   \n",
       "96   546544    control          old                    6.52       yes   \n",
       "97   546472  treatment          new                    7.07       yes   \n",
       "98   546481  treatment          new                    6.20       yes   \n",
       "99   546483  treatment          new                    5.86       yes   \n",
       "\n",
       "   language_preferred  \n",
       "0             Spanish  \n",
       "1             English  \n",
       "2             Spanish  \n",
       "3              French  \n",
       "4             Spanish  \n",
       "..                ...  \n",
       "95            Spanish  \n",
       "96            English  \n",
       "97            Spanish  \n",
       "98            Spanish  \n",
       "99            English  \n",
       "\n",
       "[100 rows x 6 columns]"
      ]
     },
     "execution_count": 11,
     "metadata": {},
     "output_type": "execute_result"
    }
   ],
   "source": [
    "db"
   ]
  },
  {
   "cell_type": "code",
   "execution_count": 145,
   "id": "75174aa3",
   "metadata": {},
   "outputs": [
    {
     "data": {
      "image/png": "[encoded data removed]",
      "text/plain": [
       "<Figure size 800x600 with 1 Axes>"
      ]
     },
     "metadata": {},
     "output_type": "display_data"
    }
   ],
   "source": [
    "# visual analysis of the time spent on the new page and the time spent on the old page\n",
    "plt.figure(figsize=(8,6))\n",
    "sns.boxplot(x = 'landing_page', y = 'time_spent_on_the_page', data = db)\n",
    "plt.show()"
   ]
  },
  {
   "cell_type": "code",
   "execution_count": 146,
   "id": "0526f2d1",
   "metadata": {},
   "outputs": [
    {
     "data": {
      "text/plain": [
       "landing_page\n",
       "new    6.2232\n",
       "old    4.5324\n",
       "Name: time_spent_on_the_page, dtype: float64"
      ]
     },
     "execution_count": 146,
     "metadata": {},
     "output_type": "execute_result"
    }
   ],
   "source": [
    "db.groupby('landing_page')['time_spent_on_the_page'].mean()"
   ]
  },
  {
   "cell_type": "markdown",
   "id": "94b682a2",
   "metadata": {},
   "source": [
    "**On extracting the mean of time spent on both old and new landing page, mean time spent on new landing page is higher,but since this only a sample of the population we cannot deduce the behaviour of the population from this data,hence we will use one hypotheses testing** "
   ]
  },
  {
   "cell_type": "markdown",
   "id": "32b5a536",
   "metadata": {},
   "source": [
    "**According to the objective statement, the goal is to try and challenge the null hypothesis i.e. time spent on new and old landing pages is the same, the challenge to this null hypthesis is one tailed and says that time spent on new is more than that on the old page**\n"
   ]
  },
  {
   "cell_type": "code",
   "execution_count": null,
   "id": "9a415181",
   "metadata": {},
   "outputs": [],
   "source": [
    "#lets take a look at the null and althernate hypothesis \n",
    "#Null hypothesis\n",
    "# mean1=mean2\n",
    "#Alternate hypothesis\n",
    "#mean1>mean2(new>old)"
   ]
  },
  {
   "cell_type": "markdown",
   "id": "9bf6e1cf",
   "metadata": {},
   "source": [
    "**We will start with segregating two columns from the dataset which stores time spent on new and old landing page.Since, we cannot use one categorical value and one numerical as an argument in the respective test function.**"
   ]
  },
  {
   "cell_type": "code",
   "execution_count": 78,
   "id": "af18fe47",
   "metadata": {},
   "outputs": [],
   "source": [
    "df1=db[db['landing_page'] == 'new'][[ 'time_spent_on_the_page']].reset_index()\n",
    "df2=db[db['landing_page']=='old'][[ 'time_spent_on_the_page']].reset_index()"
   ]
  },
  {
   "cell_type": "code",
   "execution_count": 73,
   "id": "d905e574",
   "metadata": {},
   "outputs": [],
   "source": [
    "#Now importing ttest_ind from scipy.stats library as this is a one sided but two sample independent testing\n",
    "from scipy.stats import ttest_ind"
   ]
  },
  {
   "cell_type": "code",
   "execution_count": 65,
   "id": "eeaf7d43",
   "metadata": {},
   "outputs": [
    {
     "data": {
      "text/plain": [
       "0.0001316123528095005"
      ]
     },
     "execution_count": 65,
     "metadata": {},
     "output_type": "execute_result"
    }
   ],
   "source": [
    "test_stat,p_value=ttest_ind(df1['time_spent_on_the_page'],df2['time_spent_on_the_page'],alternative='greater')\n",
    "p_value"
   ]
  },
  {
   "cell_type": "markdown",
   "id": "ca8587f8",
   "metadata": {},
   "source": [
    "**Answer1. The P value is less than level of significnce i.e 0.005.Hence we can confidently reject the Null hypothesis and go with the alternate hypothesis which says that the time spent on the new landing page is more than that on the old page.**"
   ]
  },
  {
   "cell_type": "markdown",
   "id": "c80b7222",
   "metadata": {},
   "source": [
    "**Now lets have a look at the conversion rates of both the pages. Since we have two samples here, two conversions(proportions)z test will be used to test the Null and alternate hypothesis.**"
   ]
  },
  {
   "cell_type": "code",
   "execution_count": 168,
   "id": "9508ad3e",
   "metadata": {},
   "outputs": [
    {
     "data": {
      "image/png": "[encoded data removed]",
      "text/plain": [
       "<Figure size 600x800 with 1 Axes>"
      ]
     },
     "metadata": {},
     "output_type": "display_data"
    }
   ],
   "source": [
    "# complete the code to visually compare the conversion rate for the new page and the conversion rate for the old page\n",
    "pd.crosstab(db['landing_page'],db['converted'],normalize='index').plot(kind=\"bar\", figsize=(6,8),stacked=True)\n",
    "plt.legend()\n",
    "plt.show()"
   ]
  },
  {
   "cell_type": "code",
   "execution_count": null,
   "id": "e22d9284",
   "metadata": {},
   "outputs": [],
   "source": [
    "#H0- P1=P2\n",
    "#H1=P1>P2(conversion for new is greater than conversion for old landing page)"
   ]
  },
  {
   "cell_type": "code",
   "execution_count": null,
   "id": "9d50cdd1",
   "metadata": {},
   "outputs": [],
   "source": [
    "#Creating two datasets with conversion column for new and old landing pages and filtering out the positive conversions for each"
   ]
  },
  {
   "cell_type": "code",
   "execution_count": 80,
   "id": "01a584b1",
   "metadata": {},
   "outputs": [],
   "source": [
    "df3=db[db['landing_page'] == 'new'][[ 'converted']].reset_index()\n",
    "df4=db[db['landing_page']=='old'][[ 'converted']].reset_index()"
   ]
  },
  {
   "cell_type": "code",
   "execution_count": 91,
   "id": "888df67c",
   "metadata": {},
   "outputs": [
    {
     "data": {
      "text/plain": [
       "33"
      ]
     },
     "execution_count": 91,
     "metadata": {},
     "output_type": "execute_result"
    }
   ],
   "source": [
    "len(df3[df3['converted']=='yes'])"
   ]
  },
  {
   "cell_type": "code",
   "execution_count": 92,
   "id": "cefa158c",
   "metadata": {},
   "outputs": [
    {
     "data": {
      "text/plain": [
       "21"
      ]
     },
     "execution_count": 92,
     "metadata": {},
     "output_type": "execute_result"
    }
   ],
   "source": [
    "len(df4[df4['converted']=='yes'])"
   ]
  },
  {
   "cell_type": "code",
   "execution_count": 96,
   "id": "0169e1a2",
   "metadata": {},
   "outputs": [],
   "source": [
    "#assigning arguments for the proportions_ztest function\n",
    "converted_count=np.array([33,21])\n",
    "nobs=np.array([50,50])"
   ]
  },
  {
   "cell_type": "code",
   "execution_count": 89,
   "id": "504f46fa",
   "metadata": {},
   "outputs": [],
   "source": [
    "from statsmodels.stats.proportion import proportions_ztest"
   ]
  },
  {
   "cell_type": "code",
   "execution_count": 97,
   "id": "b0a50725",
   "metadata": {},
   "outputs": [
    {
     "data": {
      "text/plain": [
       "0.016052616408112556"
      ]
     },
     "execution_count": 97,
     "metadata": {},
     "output_type": "execute_result"
    }
   ],
   "source": [
    "test_stat,p_value=proportions_ztest(converted_count,nobs)\n",
    "p_value"
   ]
  },
  {
   "cell_type": "markdown",
   "id": "28aa2133",
   "metadata": {},
   "source": [
    "**Answer2 -As the P value is less than 0.05, we can reject the Null hypthesis and say that the convertion rate on the new landing page is higher than the conversion rate of the old landing page.**"
   ]
  },
  {
   "cell_type": "code",
   "execution_count": 98,
   "id": "50382554",
   "metadata": {},
   "outputs": [
    {
     "data": {
      "text/html": [
       "<div>\n",
       "<style scoped>\n",
       "    .dataframe tbody tr th:only-of-type {\n",
       "        vertical-align: middle;\n",
       "    }\n",
       "\n",
       "    .dataframe tbody tr th {\n",
       "        vertical-align: top;\n",
       "    }\n",
       "\n",
       "    .dataframe thead th {\n",
       "        text-align: right;\n",
       "    }\n",
       "</style>\n",
       "<table border=\"1\" class=\"dataframe\">\n",
       "  <thead>\n",
       "    <tr style=\"text-align: right;\">\n",
       "      <th></th>\n",
       "      <th>user_id</th>\n",
       "      <th>group</th>\n",
       "      <th>landing_page</th>\n",
       "      <th>time_spent_on_the_page</th>\n",
       "      <th>converted</th>\n",
       "      <th>language_preferred</th>\n",
       "    </tr>\n",
       "  </thead>\n",
       "  <tbody>\n",
       "    <tr>\n",
       "      <th>0</th>\n",
       "      <td>546592</td>\n",
       "      <td>control</td>\n",
       "      <td>old</td>\n",
       "      <td>3.48</td>\n",
       "      <td>no</td>\n",
       "      <td>Spanish</td>\n",
       "    </tr>\n",
       "    <tr>\n",
       "      <th>1</th>\n",
       "      <td>546468</td>\n",
       "      <td>treatment</td>\n",
       "      <td>new</td>\n",
       "      <td>7.13</td>\n",
       "      <td>yes</td>\n",
       "      <td>English</td>\n",
       "    </tr>\n",
       "    <tr>\n",
       "      <th>2</th>\n",
       "      <td>546462</td>\n",
       "      <td>treatment</td>\n",
       "      <td>new</td>\n",
       "      <td>4.40</td>\n",
       "      <td>no</td>\n",
       "      <td>Spanish</td>\n",
       "    </tr>\n",
       "    <tr>\n",
       "      <th>3</th>\n",
       "      <td>546567</td>\n",
       "      <td>control</td>\n",
       "      <td>old</td>\n",
       "      <td>3.02</td>\n",
       "      <td>no</td>\n",
       "      <td>French</td>\n",
       "    </tr>\n",
       "    <tr>\n",
       "      <th>4</th>\n",
       "      <td>546459</td>\n",
       "      <td>treatment</td>\n",
       "      <td>new</td>\n",
       "      <td>4.75</td>\n",
       "      <td>yes</td>\n",
       "      <td>Spanish</td>\n",
       "    </tr>\n",
       "    <tr>\n",
       "      <th>...</th>\n",
       "      <td>...</td>\n",
       "      <td>...</td>\n",
       "      <td>...</td>\n",
       "      <td>...</td>\n",
       "      <td>...</td>\n",
       "      <td>...</td>\n",
       "    </tr>\n",
       "    <tr>\n",
       "      <th>95</th>\n",
       "      <td>546446</td>\n",
       "      <td>treatment</td>\n",
       "      <td>new</td>\n",
       "      <td>5.15</td>\n",
       "      <td>no</td>\n",
       "      <td>Spanish</td>\n",
       "    </tr>\n",
       "    <tr>\n",
       "      <th>96</th>\n",
       "      <td>546544</td>\n",
       "      <td>control</td>\n",
       "      <td>old</td>\n",
       "      <td>6.52</td>\n",
       "      <td>yes</td>\n",
       "      <td>English</td>\n",
       "    </tr>\n",
       "    <tr>\n",
       "      <th>97</th>\n",
       "      <td>546472</td>\n",
       "      <td>treatment</td>\n",
       "      <td>new</td>\n",
       "      <td>7.07</td>\n",
       "      <td>yes</td>\n",
       "      <td>Spanish</td>\n",
       "    </tr>\n",
       "    <tr>\n",
       "      <th>98</th>\n",
       "      <td>546481</td>\n",
       "      <td>treatment</td>\n",
       "      <td>new</td>\n",
       "      <td>6.20</td>\n",
       "      <td>yes</td>\n",
       "      <td>Spanish</td>\n",
       "    </tr>\n",
       "    <tr>\n",
       "      <th>99</th>\n",
       "      <td>546483</td>\n",
       "      <td>treatment</td>\n",
       "      <td>new</td>\n",
       "      <td>5.86</td>\n",
       "      <td>yes</td>\n",
       "      <td>English</td>\n",
       "    </tr>\n",
       "  </tbody>\n",
       "</table>\n",
       "<p>100 rows × 6 columns</p>\n",
       "</div>"
      ],
      "text/plain": [
       "    user_id      group landing_page  time_spent_on_the_page converted  \\\n",
       "0    546592    control          old                    3.48        no   \n",
       "1    546468  treatment          new                    7.13       yes   \n",
       "2    546462  treatment          new                    4.40        no   \n",
       "3    546567    control          old                    3.02        no   \n",
       "4    546459  treatment          new                    4.75       yes   \n",
       "..      ...        ...          ...                     ...       ...   \n",
       "95   546446  treatment          new                    5.15        no   \n",
       "96   546544    control          old                    6.52       yes   \n",
       "97   546472  treatment          new                    7.07       yes   \n",
       "98   546481  treatment          new                    6.20       yes   \n",
       "99   546483  treatment          new                    5.86       yes   \n",
       "\n",
       "   language_preferred  \n",
       "0             Spanish  \n",
       "1             English  \n",
       "2             Spanish  \n",
       "3              French  \n",
       "4             Spanish  \n",
       "..                ...  \n",
       "95            Spanish  \n",
       "96            English  \n",
       "97            Spanish  \n",
       "98            Spanish  \n",
       "99            English  \n",
       "\n",
       "[100 rows x 6 columns]"
      ]
     },
     "execution_count": 98,
     "metadata": {},
     "output_type": "execute_result"
    }
   ],
   "source": [
    "db"
   ]
  },
  {
   "cell_type": "markdown",
   "id": "d9c7735e",
   "metadata": {},
   "source": [
    "**In order to identify the hypothesis of dependence, we should use chi2 testing as we are dealing with two categorical variables here and trying to if there is a relationship**"
   ]
  },
  {
   "cell_type": "code",
   "execution_count": 143,
   "id": "4f4ad5d9",
   "metadata": {},
   "outputs": [
    {
     "data": {
      "image/png": "[encoded data removed]",
      "text/plain": [
       "<Figure size 600x800 with 1 Axes>"
      ]
     },
     "metadata": {},
     "output_type": "display_data"
    }
   ],
   "source": [
    "# complete the code to visually plot the dependency between conversion status and preferred langauge\n",
    "pd.crosstab(db['converted'],db['language_preferred'],normalize='index').plot(kind=\"bar\", figsize=(6,8), stacked=True)\n",
    "plt.legend()\n",
    "plt.show()"
   ]
  },
  {
   "cell_type": "code",
   "execution_count": null,
   "id": "7d6c3cc3",
   "metadata": {},
   "outputs": [],
   "source": [
    "#Null hyptothesis = There is no dependency between conversions and the language preferred\n",
    "#Alternate hypothesis= There is a dependency between conversions and the language preferred"
   ]
  },
  {
   "cell_type": "code",
   "execution_count": 137,
   "id": "5069ddb5",
   "metadata": {},
   "outputs": [],
   "source": [
    "#Lets start by creating a new database called df5 and in this database, we can add the two coloumns that we are testing i.e. converted and language preferred.\n",
    "df5=pd.DataFrame"
   ]
  },
  {
   "cell_type": "code",
   "execution_count": 120,
   "id": "1d02354c",
   "metadata": {},
   "outputs": [
    {
     "data": {
      "text/html": [
       "<div>\n",
       "<style scoped>\n",
       "    .dataframe tbody tr th:only-of-type {\n",
       "        vertical-align: middle;\n",
       "    }\n",
       "\n",
       "    .dataframe tbody tr th {\n",
       "        vertical-align: top;\n",
       "    }\n",
       "\n",
       "    .dataframe thead th {\n",
       "        text-align: right;\n",
       "    }\n",
       "</style>\n",
       "<table border=\"1\" class=\"dataframe\">\n",
       "  <thead>\n",
       "    <tr style=\"text-align: right;\">\n",
       "      <th></th>\n",
       "      <th>converted</th>\n",
       "      <th>language_preferred</th>\n",
       "    </tr>\n",
       "  </thead>\n",
       "  <tbody>\n",
       "    <tr>\n",
       "      <th>0</th>\n",
       "      <td>no</td>\n",
       "      <td>Spanish</td>\n",
       "    </tr>\n",
       "    <tr>\n",
       "      <th>1</th>\n",
       "      <td>yes</td>\n",
       "      <td>English</td>\n",
       "    </tr>\n",
       "    <tr>\n",
       "      <th>2</th>\n",
       "      <td>no</td>\n",
       "      <td>Spanish</td>\n",
       "    </tr>\n",
       "    <tr>\n",
       "      <th>3</th>\n",
       "      <td>no</td>\n",
       "      <td>French</td>\n",
       "    </tr>\n",
       "    <tr>\n",
       "      <th>4</th>\n",
       "      <td>yes</td>\n",
       "      <td>Spanish</td>\n",
       "    </tr>\n",
       "    <tr>\n",
       "      <th>...</th>\n",
       "      <td>...</td>\n",
       "      <td>...</td>\n",
       "    </tr>\n",
       "    <tr>\n",
       "      <th>95</th>\n",
       "      <td>no</td>\n",
       "      <td>Spanish</td>\n",
       "    </tr>\n",
       "    <tr>\n",
       "      <th>96</th>\n",
       "      <td>yes</td>\n",
       "      <td>English</td>\n",
       "    </tr>\n",
       "    <tr>\n",
       "      <th>97</th>\n",
       "      <td>yes</td>\n",
       "      <td>Spanish</td>\n",
       "    </tr>\n",
       "    <tr>\n",
       "      <th>98</th>\n",
       "      <td>yes</td>\n",
       "      <td>Spanish</td>\n",
       "    </tr>\n",
       "    <tr>\n",
       "      <th>99</th>\n",
       "      <td>yes</td>\n",
       "      <td>English</td>\n",
       "    </tr>\n",
       "  </tbody>\n",
       "</table>\n",
       "<p>100 rows × 2 columns</p>\n",
       "</div>"
      ],
      "text/plain": [
       "   converted language_preferred\n",
       "0         no            Spanish\n",
       "1        yes            English\n",
       "2         no            Spanish\n",
       "3         no             French\n",
       "4        yes            Spanish\n",
       "..       ...                ...\n",
       "95        no            Spanish\n",
       "96       yes            English\n",
       "97       yes            Spanish\n",
       "98       yes            Spanish\n",
       "99       yes            English\n",
       "\n",
       "[100 rows x 2 columns]"
      ]
     },
     "execution_count": 120,
     "metadata": {},
     "output_type": "execute_result"
    }
   ],
   "source": [
    "df5= db.loc[:,['converted','language_preferred']]\n",
    "df5"
   ]
  },
  {
   "cell_type": "code",
   "execution_count": 113,
   "id": "90818d64",
   "metadata": {},
   "outputs": [],
   "source": [
    "#Importing chi2_contingency function from stats library\n",
    "from scipy.stats import chi2_contingency"
   ]
  },
  {
   "cell_type": "code",
   "execution_count": 134,
   "id": "1a51acf6",
   "metadata": {},
   "outputs": [
    {
     "data": {
      "text/html": [
       "<div>\n",
       "<style scoped>\n",
       "    .dataframe tbody tr th:only-of-type {\n",
       "        vertical-align: middle;\n",
       "    }\n",
       "\n",
       "    .dataframe tbody tr th {\n",
       "        vertical-align: top;\n",
       "    }\n",
       "\n",
       "    .dataframe thead th {\n",
       "        text-align: right;\n",
       "    }\n",
       "</style>\n",
       "<table border=\"1\" class=\"dataframe\">\n",
       "  <thead>\n",
       "    <tr style=\"text-align: right;\">\n",
       "      <th>language_preferred</th>\n",
       "      <th>English</th>\n",
       "      <th>French</th>\n",
       "      <th>Spanish</th>\n",
       "    </tr>\n",
       "    <tr>\n",
       "      <th>converted</th>\n",
       "      <th></th>\n",
       "      <th></th>\n",
       "      <th></th>\n",
       "    </tr>\n",
       "  </thead>\n",
       "  <tbody>\n",
       "    <tr>\n",
       "      <th>no</th>\n",
       "      <td>11</td>\n",
       "      <td>19</td>\n",
       "      <td>16</td>\n",
       "    </tr>\n",
       "    <tr>\n",
       "      <th>yes</th>\n",
       "      <td>21</td>\n",
       "      <td>15</td>\n",
       "      <td>18</td>\n",
       "    </tr>\n",
       "  </tbody>\n",
       "</table>\n",
       "</div>"
      ],
      "text/plain": [
       "language_preferred  English  French  Spanish\n",
       "converted                                   \n",
       "no                       11      19       16\n",
       "yes                      21      15       18"
      ]
     },
     "execution_count": 134,
     "metadata": {},
     "output_type": "execute_result"
    }
   ],
   "source": [
    "#Using crosstab function in pandas in order to create a contingency table with the data in our two above columns. \n",
    "contingency_table = pd.crosstab(df5['converted'], df5['language_preferred'])\n",
    "contingency_table"
   ]
  },
  {
   "cell_type": "code",
   "execution_count": 136,
   "id": "005e6c2e",
   "metadata": {},
   "outputs": [
    {
     "data": {
      "text/plain": [
       "0.21298887487543447"
      ]
     },
     "execution_count": 136,
     "metadata": {},
     "output_type": "execute_result"
    }
   ],
   "source": [
    "#Lets now use the chi2_contigency function to find out the p_value of the data\n",
    "chi2, p_value, dof, exp_freq = chi2_contingency(contingency_table)\n",
    "p_value"
   ]
  },
  {
   "cell_type": "markdown",
   "id": "34cd499b",
   "metadata": {},
   "source": [
    "**Answer3. Since the P value is greater than level of significance 0.05, hence we cannot reject the Null hypotheses. The conversions are not dependent on the language preferred as per our testing**"
   ]
  },
  {
   "cell_type": "code",
   "execution_count": 152,
   "id": "779439c5",
   "metadata": {},
   "outputs": [],
   "source": [
    "df_new = db[db['landing_page'] == 'new']"
   ]
  },
  {
   "cell_type": "code",
   "execution_count": 155,
   "id": "ddecab14",
   "metadata": {},
   "outputs": [
    {
     "data": {
      "image/png": "[encoded data removed]",
      "text/plain": [
       "<Figure size 800x800 with 1 Axes>"
      ]
     },
     "metadata": {},
     "output_type": "display_data"
    }
   ],
   "source": [
    "# complete the code to visually plot the time spent on the new page for different language users\n",
    "plt.figure(figsize=(8,8))\n",
    "sns.boxplot(x = 'language_preferred', y = 'time_spent_on_the_page', showmeans = True, data = df_new)\n",
    "plt.show()"
   ]
  },
  {
   "cell_type": "code",
   "execution_count": 156,
   "id": "4a99c223",
   "metadata": {},
   "outputs": [],
   "source": [
    "#lets establish the null and alternate hypothesis now\n",
    "#Null hypothesis= Mean time spent for each language on the new landing page is the same. M1=M2=M3\n",
    "#Alternate hypothesis=Mean time spent for each language on the new landing page is different.Atleast one the means is not equal to the others."
   ]
  },
  {
   "cell_type": "code",
   "execution_count": 159,
   "id": "763a7f18",
   "metadata": {},
   "outputs": [
    {
     "data": {
      "text/plain": [
       "language_preferred\n",
       "English    6.663750\n",
       "French     6.196471\n",
       "Spanish    5.835294\n",
       "Name: time_spent_on_the_page, dtype: float64"
      ]
     },
     "execution_count": 159,
     "metadata": {},
     "output_type": "execute_result"
    }
   ],
   "source": [
    "#Now lets find the mean time spent on the new landing page across different languages using groupby function\n",
    "df_new.groupby('language_preferred')['time_spent_on_the_page'].mean()"
   ]
  },
  {
   "cell_type": "markdown",
   "id": "ca52f683",
   "metadata": {},
   "source": [
    "**We will use ANOVA to in order to compare the 3 means. \n",
    "First, we start by calculating the time spent by different language users using the code below and then use f_oneway function from stats library to do the oneway comparision in all different means**"
   ]
  },
  {
   "cell_type": "code",
   "execution_count": 160,
   "id": "4661e89d",
   "metadata": {},
   "outputs": [],
   "source": [
    "# create a subsetted data frame of the time spent on the new page by language users \n",
    "time_spent_English = df_new[df_new['language_preferred']==\"English\"]['time_spent_on_the_page']\n",
    "time_spent_French = df_new[df_new['language_preferred']==\"French\"]['time_spent_on_the_page']   \n",
    "time_spent_Spanish = df_new[df_new['language_preferred']==\"Spanish\"]['time_spent_on_the_page']  "
   ]
  },
  {
   "cell_type": "code",
   "execution_count": 164,
   "id": "9a4d24e9",
   "metadata": {},
   "outputs": [
    {
     "data": {
      "text/plain": [
       "0.43204138694325955"
      ]
     },
     "execution_count": 164,
     "metadata": {},
     "output_type": "execute_result"
    }
   ],
   "source": [
    "from scipy.stats import f_oneway \n",
    "\n",
    "# write the code to calculate the p-value\n",
    "test_stat, p_value = f_oneway(time_spent_English, time_spent_French, time_spent_Spanish)   #complete the code by filling appropriate parameters in the blanks\n",
    "p_value"
   ]
  },
  {
   "cell_type": "markdown",
   "id": "11f655f5",
   "metadata": {},
   "source": [
    "**Answer-4-Since the p_value is greater than the level of significance, we do not have sufficient evidence to reject the null hypothesis.The mean time spent on the new page is same for all the different language users**. "
   ]
  },
  {
   "cell_type": "code",
   "execution_count": 167,
   "id": "64340648",
   "metadata": {},
   "outputs": [],
   "source": [
    "#We can deduce the following observations from our analysis of the data above using various hypothesis testing\n",
    "#1.Users spent more time on the new landing page as compared to the old landing page.\n",
    "#2. The number of conversions on the new landing page are higher as compared to the old landing page.\n",
    "#3. There is no dependency between the conversion status and the language preferrence.\n",
    "#4. Mean time spent on the new landing page is same across all language users."
   ]
  }
 ],
 "metadata": {
  "kernelspec": {
   "display_name": "Python 3 (ipykernel)",
   "language": "python",
   "name": "python3"
  },
  "language_info": {
   "codemirror_mode": {
    "name": "ipython",
    "version": 3
   },
   "file_extension": ".py",
   "mimetype": "text/x-python",
   "name": "python",
   "nbconvert_exporter": "python",
   "pygments_lexer": "ipython3",
   "version": "3.10.9"
  }
 },
 "nbformat": 4,
 "nbformat_minor": 5
}
